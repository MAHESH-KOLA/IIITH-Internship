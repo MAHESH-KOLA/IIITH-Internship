{
  "cells": [
    {
      "cell_type": "markdown",
      "metadata": {
        "id": "t5DP3gVwIWPi"
      },
      "source": [
        "# <center> Week-1 Assignment Solutions <center>"
      ]
    },
    {
      "cell_type": "markdown",
      "metadata": {
        "id": "yE7cWpPDhZXe"
      },
      "source": [
        "#### Problem No: 1\n"
      ]
    },
    {
      "cell_type": "code",
      "execution_count": null,
      "metadata": {
        "id": "ahU4eHL7hU19"
      },
      "outputs": [],
      "source": [
        "def str2list(str1):\n",
        "    # write code to add each character in the string into a list format\n",
        "    # don't use any inbuilt methods\n",
        "    # input:\n",
        "        # str1 : input string\n",
        "    # output:\n",
        "        # return list (Replace None with output in return statement)\n",
        "        \n",
        "        \n",
        "    ### Write your code here\n",
        "    \n",
        "    \n",
        "    ### End of code"
      ]
    },
    {
      "cell_type": "markdown",
      "metadata": {
        "id": "b41Fw-aahtee"
      },
      "source": [
        "#### Problem No: 2\n"
      ]
    },
    {
      "cell_type": "code",
      "execution_count": null,
      "metadata": {
        "id": "vp0YgjS1hukE"
      },
      "outputs": [],
      "source": [
        "def listcombine(list1, list2):\n",
        "    # write code to combine two lists into one 2D list\n",
        "    # don't use any inbuilt methods\n",
        "    # input:\n",
        "        # list1 : input list1\n",
        "        # list2 : input list2\n",
        "    # output:\n",
        "        # return the combined list (Replace None with output in return statement)\n",
        "    \n",
        "    \n",
        "    ### Write your code here\n",
        "    \n",
        "    \n",
        "    ### End of code"
      ]
    },
    {
      "cell_type": "markdown",
      "metadata": {
        "id": "tGPexTCviAoF"
      },
      "source": [
        "#### Problem No: 3"
      ]
    },
    {
      "cell_type": "code",
      "execution_count": null,
      "metadata": {
        "id": "v3UdFh-CiD4u"
      },
      "outputs": [],
      "source": [
        "def reverselist(list1):\n",
        "    # write code to reverse the elements in a list\n",
        "    # don't use any inbuilt methods\n",
        "    # input:\n",
        "        # list1 : input list1\n",
        "    # output:\n",
        "        # retun the reversed list (Replace None with output in return statement)\n",
        "\n",
        "\n",
        "    ### Write your code here\n",
        "    \n",
        "    \n",
        "    ### End of code"
      ]
    },
    {
      "cell_type": "markdown",
      "metadata": {
        "id": "_8B-ZTGkiIz_"
      },
      "source": [
        "#### Problem No: 4"
      ]
    },
    {
      "cell_type": "code",
      "execution_count": null,
      "metadata": {
        "id": "iNMij6djiMUt"
      },
      "outputs": [],
      "source": [
        "def createdict(keys, values):\n",
        "    # write code to create a dictionary with keys & values lists\n",
        "    # input:\n",
        "        # keys : input list of keys\n",
        "        # values : input list of values\n",
        "    # output:\n",
        "        # return the dictionary (Replace None with output in return statement)\n",
        "\n",
        "\n",
        "    ### Write your code here\n",
        "    \n",
        "    \n",
        "    ### End of code"
      ]
    },
    {
      "cell_type": "markdown",
      "metadata": {
        "id": "TYt62cDOiYle"
      },
      "source": [
        "#### Problem No: 5"
      ]
    },
    {
      "cell_type": "code",
      "execution_count": null,
      "metadata": {
        "id": "YfiJSAz8iZMt"
      },
      "outputs": [],
      "source": [
        "def string_occurence(str1, sub_str):\n",
        "    # Check if a string contains a specific substring given as input.\n",
        "    # If the string search is successful then return the number of occurrences otherwise 0.\n",
        "    # input:\n",
        "        # str1: input string\n",
        "        # stb_str: input substring\n",
        "    # output: \n",
        "        # number of occurences of substring in string (Replace None with output in return statement)\n",
        "    \n",
        "    ### Write your code here\n",
        "    \n",
        "    \n",
        "    ### End of code"
      ]
    },
    {
      "cell_type": "markdown",
      "metadata": {
        "id": "bz-ZMJCGifjg"
      },
      "source": [
        "#### Problem No: 6"
      ]
    },
    {
      "cell_type": "code",
      "execution_count": null,
      "metadata": {
        "id": "h4ru_eWAigLI"
      },
      "outputs": [],
      "source": [
        "def perfectnumbercheck(num):\n",
        "    # write code to check given number is perfect or not\n",
        "    # Hint: return True or False\n",
        "    # input:\n",
        "        # num : input number\n",
        "    # output:\n",
        "        # return boolean value (Replace None with output in return statement)\n",
        "\n",
        "\n",
        "    ### Write your code here\n",
        "    \n",
        "    \n",
        "    ### End of code"
      ]
    },
    {
      "cell_type": "markdown",
      "metadata": {
        "id": "DceitnVmikCm"
      },
      "source": [
        "#### Problem No: 7"
      ]
    },
    {
      "cell_type": "code",
      "execution_count": null,
      "metadata": {
        "id": "R8ZGyY8LioOE"
      },
      "outputs": [],
      "source": [
        "def passwordstrengthcheck(password):\n",
        "    # check below conditions for the given password & return True if it pass otherwise False.\n",
        "    # At least 1 small letter [a-z] and 1 capital letter [A-Z].\n",
        "    # At least 1 digit [0-9].\n",
        "    # At least 1 special character from [$#@].\n",
        "    # Minimum length 6 characters.\n",
        "    # Maximum length 16 characters.\n",
        "    # input:\n",
        "        # password: input string\n",
        "    # output:\n",
        "        # return boolean value (Replace None with output in return statement)\n",
        "\n",
        "\n",
        "    ### Write your code here\n",
        "\n",
        "\n",
        "    ### End of code"
      ]
    },
    {
      "cell_type": "markdown",
      "metadata": {
        "id": "3gbKdkHAi0SC"
      },
      "source": [
        "#### Problem No: 8"
      ]
    },
    {
      "cell_type": "code",
      "execution_count": null,
      "metadata": {
        "id": "xgicShJKi0zA"
      },
      "outputs": [],
      "source": [
        "def wordfrequency(str1):\n",
        "    # Find out the frequency of words in a given string (prompted by the user) using dictionaries \n",
        "    # words frequency must be case-insensitive\n",
        "    # Hint: return a dictionary with unique words in the string as keys and theier frequency as the values\n",
        "    # input:\n",
        "        # str1 : input str1\n",
        "    # output:\n",
        "        # retrun the dictionary (Replace None with output in return statement)\n",
        "         \n",
        "    ### Write your code here\n",
        "    \n",
        "\n",
        "    ### End of code"
      ]
    },
    {
      "cell_type": "markdown",
      "metadata": {
        "id": "4VzKnYm9i8uG"
      },
      "source": [
        "#### Problem No: 9"
      ]
    },
    {
      "cell_type": "code",
      "execution_count": null,
      "metadata": {
        "id": "YOh2XFuqi9SJ"
      },
      "outputs": [],
      "source": [
        "def primenumcount(list1):\n",
        "    # Write a function that can take a list of integers as function arguments and count the number of prime numbers in it (You can use inbuilt methods).\n",
        "    # If the prime number count below the len(list)/4 then return \"1\"\n",
        "    # If the prime number count between len(list)/4 and len(list)/2 then return \"2\" (boundary points included).\n",
        "    # If the prime number count above the len(list)/2 then return “3”.\n",
        "    # input:\n",
        "        # list1: input list of integers\n",
        "    # output:\n",
        "        # return count of prime (Replace None with output in return statement)\n",
        "         \n",
        "    ### Write your code here\n",
        "    \n",
        "\n",
        "    ### End of code"
      ]
    },
    {
      "cell_type": "markdown",
      "metadata": {
        "id": "2BsFdnKyjDGT"
      },
      "source": [
        "#### Problem No: 10"
      ]
    },
    {
      "cell_type": "code",
      "execution_count": null,
      "metadata": {
        "id": "IyrHjMqFjDmQ"
      },
      "outputs": [],
      "source": [
        "def unique_words(str1, length):\n",
        "    # Write a function that can take a string and an integer as function arguments and display \n",
        "    # the unique words (words are case-insensitive) that can meet the condition i.e. word length >= given integer \n",
        "    # (Don’t use any inbuilt method for removing duplicate words).\n",
        "    \n",
        "    # input:\n",
        "        # str1 : input string\n",
        "        # length : string length\n",
        "    # output:\n",
        "        # list of unique words those meets the above condition (Replace None with output in return statement)\n",
        "         \n",
        "    ### Write your code here\n",
        "    \n",
        "    \n",
        "    ### End of code"
      ]
    }
  ],
  "metadata": {
    "colab": {
      "provenance": []
    },
    "kernelspec": {
      "display_name": "Python 3",
      "name": "python3"
    },
    "language_info": {
      "name": "python"
    }
  },
  "nbformat": 4,
  "nbformat_minor": 0
}
