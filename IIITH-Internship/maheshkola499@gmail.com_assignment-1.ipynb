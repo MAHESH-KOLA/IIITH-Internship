{
 "cells": [
  {
   "cell_type": "markdown",
   "metadata": {
    "id": "t5DP3gVwIWPi"
   },
   "source": [
    "# <center> Week-1 Assignment Solutions <center>"
   ]
  },
  {
   "cell_type": "markdown",
   "metadata": {
    "id": "yE7cWpPDhZXe"
   },
   "source": [
    "#### Problem No: 1\n"
   ]
  },
  {
   "cell_type": "code",
   "execution_count": 4,
   "metadata": {
    "id": "ahU4eHL7hU19"
   },
   "outputs": [],
   "source": [
    "def str2list(str1):\n",
    "    \n",
    "    # write code to add each character in the string into a list format\n",
    "    # don't use any inbuilt methods\n",
    "    # input:\n",
    "        # str1 : input string\n",
    "    # output:\n",
    "        # return list (Replace None with output in return statement)\n",
    "        \n",
    "        \n",
    "    ### Write your code here\n",
    "    temp=[]\n",
    "    for i in str1:\n",
    "        temp+=[i]\n",
    "    return temp\n",
    "    \n",
    "    ### End of code"
   ]
  },
  {
   "cell_type": "markdown",
   "metadata": {
    "id": "b41Fw-aahtee"
   },
   "source": [
    "#### Problem No: 2\n"
   ]
  },
  {
   "cell_type": "code",
   "execution_count": null,
   "metadata": {
    "id": "vp0YgjS1hukE"
   },
   "outputs": [],
   "source": [
    "def listcombine(list1, list2):\n",
    "    # write code to combine two lists into one 2D list\n",
    "    # don't use any inbuilt methods\n",
    "    # input:\n",
    "        # list1 : input list1\n",
    "        # list2 : input list2\n",
    "    # output:\n",
    "        # return the combined list (Replace None with output in return statement)\n",
    "    \n",
    "    \n",
    "    ### Write your code here\n",
    "    combined_list=[]\n",
    "    combined_list+=list1\n",
    "    combined_list+=list2\n",
    "    return combined_list\n",
    "    \n",
    "    ### End of code"
   ]
  },
  {
   "cell_type": "markdown",
   "metadata": {
    "id": "tGPexTCviAoF"
   },
   "source": [
    "#### Problem No: 3"
   ]
  },
  {
   "cell_type": "code",
   "execution_count": null,
   "metadata": {
    "id": "v3UdFh-CiD4u"
   },
   "outputs": [],
   "source": [
    "def reverselist(list1):\n",
    "    # write code to reverse the elements in a list\n",
    "    # don't use any inbuilt methods\n",
    "    # input:\n",
    "        # list1 : input list1\n",
    "    # output:\n",
    "        # retun the reversed list (Replace None with output in return statement)\n",
    "    reversed_list=[]\n",
    "    for i in range(len(list1)-1,-1,-1):\n",
    "        reversed_list+=[list1[i]]\n",
    "    return reversed_list\n",
    "    ### Write your code here\n",
    "    \n",
    "    \n",
    "    ### End of code"
   ]
  },
  {
   "cell_type": "markdown",
   "metadata": {
    "id": "_8B-ZTGkiIz_"
   },
   "source": [
    "#### Problem No: 4"
   ]
  },
  {
   "cell_type": "code",
   "execution_count": null,
   "metadata": {
    "id": "iNMij6djiMUt"
   },
   "outputs": [],
   "source": [
    "def createdict(keys, values):\n",
    "    # write code to create a dictionary with keys & values lists\n",
    "    # input:\n",
    "        # keys : input list of keys\n",
    "        # values : input list of values\n",
    "    # output:\n",
    "        # return the dictionary (Replace None with output in return statement)\n",
    "    temp_dict=dict()\n",
    "    for i in range(0,len(keys)):\n",
    "        temp_dict[keys[i]]=values[i]\n",
    "    return temp_dict\n",
    "\n",
    "    ### Write your code here\n",
    "    \n",
    "    \n",
    "    ### End of code"
   ]
  },
  {
   "cell_type": "markdown",
   "metadata": {
    "id": "TYt62cDOiYle"
   },
   "source": [
    "#### Problem No: 5"
   ]
  },
  {
   "cell_type": "code",
   "execution_count": null,
   "metadata": {
    "id": "YfiJSAz8iZMt"
   },
   "outputs": [],
   "source": [
    "def string_occurence(str1, sub_str):\n",
    "    # Check if a string contains a specific substring given as input.\n",
    "    # If the string search is successful then return the number of occurrences otherwise 0.\n",
    "    # input:\n",
    "        # str1: input string\n",
    "        # stb_str: input substring\n",
    "    # output: \n",
    "        # number of occurences of substring in string (Replace None with output in return statement)\n",
    "    \n",
    "    ### Write your code here\n",
    "    c=0\n",
    "    n=len(sub_str)\n",
    "    for i in range(len(str1)):\n",
    "        if(sub_str[0]==str1[i]):\n",
    "            if(str1[i:i+n]==sub_str):\n",
    "                c+=1\n",
    "    return c     \n",
    "    \n",
    "    \n",
    "    ### End of code"
   ]
  },
  {
   "cell_type": "markdown",
   "metadata": {
    "id": "bz-ZMJCGifjg"
   },
   "source": [
    "#### Problem No: 6"
   ]
  },
  {
   "cell_type": "code",
   "execution_count": 6,
   "metadata": {
    "id": "h4ru_eWAigLI"
   },
   "outputs": [],
   "source": [
    "def perfectnumbercheck(num):\n",
    "    # write code to check given number is perfect or not\n",
    "    # Hint: return True or False\n",
    "    # input:\n",
    "        # num : input number\n",
    "    # output:\n",
    "        # return boolean value (Replace None with output in return statement)\n",
    "    perfect=0\n",
    "    for i in range(1,num):\n",
    "        if(num%i==0):\n",
    "            perfect+=i\n",
    "    if(perfect==num):\n",
    "        return True\n",
    "    else:\n",
    "        return False\n",
    "\n",
    "    ### Write your code here\n",
    "    \n",
    "    \n",
    "    ### End of code"
   ]
  },
  {
   "cell_type": "markdown",
   "metadata": {
    "id": "DceitnVmikCm"
   },
   "source": [
    "#### Problem No: 7"
   ]
  },
  {
   "cell_type": "code",
   "execution_count": 8,
   "metadata": {
    "id": "R8ZGyY8LioOE"
   },
   "outputs": [],
   "source": [
    "def passwordstrengthcheck(password):\n",
    "    # check below conditions for the given password & return True if it pass otherwise False.\n",
    "    # At least 1 small letter [a-z] and 1 capital letter [A-Z].\n",
    "    # At least 1 digit [0-9].\n",
    "    # At least 1 special character from [$#@].\n",
    "    # Minimum length 6 characters.\n",
    "    # Maximum length 16 characters.\n",
    "    # input:\n",
    "        # password: input string\n",
    "    # output:\n",
    "        # return boolean value (Replace None with output in return statement)\n",
    "\n",
    "\n",
    "    ### Write your code here\n",
    "    a=b=c=d=0\n",
    "    if(6<=len(password)<=16):\n",
    "        for i in range(0,len(password)):\n",
    "            if('a'<=password[i]<='z'):\n",
    "                a=1\n",
    "            if('A'<=password[i]<='Z'):\n",
    "                b=1\n",
    "            if('0'<=password[i]<='9'):\n",
    "                c=1\n",
    "            if(password[i]=='#' or password[i]=='$' or password[i]=='@'):\n",
    "                d=1\n",
    "        if(a and b and c and d):\n",
    "            return True\n",
    "        else:\n",
    "            return False\n",
    "    else:\n",
    "        return False\n",
    "\n",
    "\n",
    "    ### End of code"
   ]
  },
  {
   "cell_type": "markdown",
   "metadata": {
    "id": "3gbKdkHAi0SC"
   },
   "source": [
    "#### Problem No: 8"
   ]
  },
  {
   "cell_type": "code",
   "execution_count": 10,
   "metadata": {
    "id": "xgicShJKi0zA"
   },
   "outputs": [],
   "source": [
    "def wordfrequency(str1):\n",
    "    # Find out the frequency of words in a given string (prompted by the user) using dictionaries \n",
    "    # words frequency must be case-insensitive\n",
    "    # Hint: return a dictionary with unique words in the string as keys and theier frequency as the values\n",
    "    # input:\n",
    "        # str1 : input str1\n",
    "    # output:\n",
    "        # retrun the dictionary (Replace None with output in return statement)\n",
    "         \n",
    "    ### Write your code here\n",
    "    temp_dict=dict()\n",
    "    temp=\"\"\n",
    "    for i in str1:\n",
    "        if(i!=' '):\n",
    "            temp+=i\n",
    "        else:\n",
    "            temp_dict[word]=0\n",
    "            temp=\"\"\n",
    "    for i in str1:\n",
    "        if(i!=' '):\n",
    "            temp+=i\n",
    "        else:\n",
    "            temp_dict[word]+=1\n",
    "            temp=\"\"\n",
    "    return temp_dict\n",
    "    \n",
    "\n",
    "    ### End of code"
   ]
  },
  {
   "cell_type": "markdown",
   "metadata": {
    "id": "4VzKnYm9i8uG"
   },
   "source": [
    "#### Problem No: 9"
   ]
  },
  {
   "cell_type": "code",
   "execution_count": 12,
   "metadata": {
    "id": "YOh2XFuqi9SJ"
   },
   "outputs": [],
   "source": [
    "def primenumcount(list1):\n",
    "    # Write a function that can take a list of integers as function arguments and count the number of prime numbers in it (You can use inbuilt methods).\n",
    "    # If the prime number count below the len(list)/4 then return \"1\"\n",
    "    # If the prime number count between len(list)/4 and len(list)/2 then return \"2\" (boundary points included).\n",
    "    # If the prime number count above the len(list)/2 then return “3”.\n",
    "    # input:\n",
    "        # list1: input list of integers\n",
    "    # output:\n",
    "        # return count of prime (Replace None with output in return statement)\n",
    "         \n",
    "    ### Write your code here\n",
    "    prime_num=0\n",
    "    for i in list1:\n",
    "        c=0\n",
    "        for j in range(1,i+1): \n",
    "            if(i%j==0):\n",
    "                c+=1\n",
    "        if(c==2):\n",
    "            prime_num+=1        \n",
    "    \n",
    "    if(prime_num<(len(list1)/4)):\n",
    "        return 1\n",
    "    elif((len(list1)/4)<=prime_num<=(len(list1)/2)):\n",
    "        return 2\n",
    "    elif(prime_num>len(list1)/2):\n",
    "        return 3\n",
    "    \n",
    "    \n",
    "\n",
    "    ### End of code"
   ]
  },
  {
   "cell_type": "markdown",
   "metadata": {
    "id": "2BsFdnKyjDGT"
   },
   "source": [
    "#### Problem No: 10"
   ]
  },
  {
   "cell_type": "code",
   "execution_count": 13,
   "metadata": {
    "id": "IyrHjMqFjDmQ"
   },
   "outputs": [],
   "source": [
    "def unique_words(str1, length):\n",
    "    # Write a function that can take a string and an integer as function arguments and display \n",
    "    # the unique words (words are case-insensitive) that can meet the condition i.e. word length >= given integer \n",
    "    # (Don’t use any inbuilt method for removing duplicate words).\n",
    "    \n",
    "    # input:\n",
    "        # str1 : input string\n",
    "        # length : string length\n",
    "    # output:\n",
    "        # list of unique words those meets the above condition (Replace None with output in return statement)\n",
    "         \n",
    "    ### Write your code here\n",
    "    l1=[]\n",
    "    l2=[]\n",
    "    word=\"\"\n",
    "    str1+=' '\n",
    "    for i in str1:\n",
    "        if(i!=' '):\n",
    "            word+=i\n",
    "        else:\n",
    "            l1+=[word]\n",
    "            word=\"\"\n",
    "    for i in l1:\n",
    "        if(i not in list2) and (len(i)>=length):\n",
    "            l2+=[i]\n",
    "    return l2\n",
    "    \n",
    "    \n",
    "    \n",
    "    ### End of code"
   ]
  }
 ],
 "metadata": {
  "colab": {
   "provenance": []
  },
  "kernelspec": {
   "display_name": "Python 3 (ipykernel)",
   "language": "python",
   "name": "python3"
  },
  "language_info": {
   "codemirror_mode": {
    "name": "ipython",
    "version": 3
   },
   "file_extension": ".py",
   "mimetype": "text/x-python",
   "name": "python",
   "nbconvert_exporter": "python",
   "pygments_lexer": "ipython3",
   "version": "3.10.6"
  }
 },
 "nbformat": 4,
 "nbformat_minor": 1
}
